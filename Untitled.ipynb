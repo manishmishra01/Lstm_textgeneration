{
 "cells": [
  {
   "cell_type": "code",
   "execution_count": 7,
   "id": "90634841-cd78-4a42-9af1-2e6591ae93e0",
   "metadata": {},
   "outputs": [],
   "source": [
    "import numpy as np"
   ]
  },
  {
   "cell_type": "code",
   "execution_count": 11,
   "id": "48939b1c-ebe2-4817-a349-292e2792bf6f",
   "metadata": {},
   "outputs": [
    {
     "data": {
      "text/plain": [
       "array([1, 2, 3, 4, 5])"
      ]
     },
     "execution_count": 11,
     "metadata": {},
     "output_type": "execute_result"
    }
   ],
   "source": [
    "var= np.array([1,2,3,4,5])\n",
    "var"
   ]
  },
  {
   "cell_type": "code",
   "execution_count": 12,
   "id": "45a206b9-c3b2-45d6-aa46-9737f0be222d",
   "metadata": {},
   "outputs": [],
   "source": [
    "import numpy as np\n",
    "from sklearn.linear_model import LinearRegression"
   ]
  },
  {
   "cell_type": "code",
   "execution_count": 15,
   "id": "0c9c90b6-f1a3-4aa0-bfda-c21eea4d92ae",
   "metadata": {},
   "outputs": [
    {
     "name": "stdout",
     "output_type": "stream",
     "text": [
      "Predicted price for 3000 sq ft house: 650000.0\n"
     ]
    }
   ],
   "source": [
    "X = np.array([[500], [1000], [1500], [2000], [2500]])   \n",
    "y = np.array([150000, 250000, 350000, 450000, 550000])  \n",
    "\n",
    "\n",
    "model = LinearRegression()\n",
    "model.fit(X, y)\n",
    "\n",
    "\n",
    "predicted_price = model.predict([[3000]])\n",
    "print(\"Predicted price for 3000 sq ft house:\", predicted_price[0])"
   ]
  },
  {
   "cell_type": "code",
   "execution_count": null,
   "id": "a438ee9f-ff25-4863-a3a7-830413834640",
   "metadata": {},
   "outputs": [],
   "source": []
  }
 ],
 "metadata": {
  "kernelspec": {
   "display_name": "Python 3 (ipykernel)",
   "language": "python",
   "name": "python3"
  },
  "language_info": {
   "codemirror_mode": {
    "name": "ipython",
    "version": 3
   },
   "file_extension": ".py",
   "mimetype": "text/x-python",
   "name": "python",
   "nbconvert_exporter": "python",
   "pygments_lexer": "ipython3",
   "version": "3.13.5"
  }
 },
 "nbformat": 4,
 "nbformat_minor": 5
}
